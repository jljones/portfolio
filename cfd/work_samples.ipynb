{
 "cells": [
  {
   "cell_type": "markdown",
   "metadata": {},
   "source": [
    "# Computational Fluid Dynamics (CFD) work samples\n",
    "\n",
    "### Jennifer Jones \n",
    "<a href=\"mailto:jennifer.jones@cal.berkeley.edu\">jennifer.jones@cal.berkeley.edu</a>\n"
   ]
  },
  {
   "cell_type": "markdown",
   "metadata": {},
   "source": [
    "## Background\n",
    "\n",
    "The work shown here was performed using the CFD package called Fire Dynamics Simulator (FDS). FDS is an open source, free CFD package built and maintained by the National Institute of Standards and Technology (NIST). FDS, available [here](http://firemodels.github.io/fds-smv/) is similar to the [capabilities](http://www.ansys.com/staticassets/ANSYS/staticassets/resourcelibrary/brochure/ansys-capabilities-16.0.pdf) of commercial CFD codes such as [ANSYS Fluent](http://www.ansys.com/Products/Simulation+Technology/Fluid+Dynamics). \n",
    "\n",
    "FDS has capabilities for modeling fluid flow, heat transfer, pyrolysis, and combusion. It is best suited for simulating physical systems with simple geometries, since the physical model used in the simulations has to conform to an underlying rectilinear grid. For most of the work I did in FDS, I was focusing on transport phenomena and the physics of the underlying problem, rather than complex geometries. \n",
    "\n",
    "For the design of any sort of guidevanes, blades, or devices such as turbines, ANSYS Fluent would likely be a better match for handling these more complicated geometries.\n",
    "\n",
    "For more complicated geometries, I would use CAD software such as SolidWorks for building or modifying the solid models, and then import the solid model into a CFD program."
   ]
  },
  {
   "cell_type": "markdown",
   "metadata": {},
   "source": [
    "## Work sample 1\n",
    "\n",
    "The **objective** was to model the fluid flow, heat transfer, and combustion reactions inside a combustion chamber, and to look at the effect of injected turbulent air inside a combustion chamber of a household cookstove on the emissions of carbon monoxide and soot.\n",
    "\n",
    "Included below are the following items:\n",
    "- A code sample\n",
    "- Summary statistics of numerical predictions of quantitative values such as velocity and the volume fraction of carbon monoxide emissions exiting the combustion chamber\n",
    "- A time-series plot of the numerical values from a simulated carbon monoxide sensor defined in the CFD model\n",
    "- 2-D images of the flow field through the combustion chamber, in a vertical plane, from the simulations\n",
    "\n",
    "I used Fire Dynamics Simulator (FDS) as the CFD package. The summary statistics and time-series plots were performed using Python."
   ]
  },
  {
   "cell_type": "markdown",
   "metadata": {},
   "source": [
    "### Code sample\n",
    "\n",
    "Whereas Fluent and other commercial CFD packages often include a graphical user interface (GUI) to make using the program more user-friendly, for FDS the user writes an input text file that is executed via the command line.\n",
    "\n",
    "```\n",
    "ig6.fds\n",
    "\n",
    "&HEAD CHID='ig6', TITLE='Inside Stove; FDS version 6.0.0' /\n",
    "&DUMP RENDER_FILE='ig6' /\n",
    "&MISC DNS=.TRUE. / \n",
    "&TIME T_END=480. /\n",
    "\n",
    "# MESH\n",
    "&MESH IJK=240,1,240, XB=0.09,0.21,0.12,0.1205,0.03,0.15 / grid 0.5 mm \n",
    "&VENT MB='ZMAX', SURF_ID='OPEN', RGB=135,206,235, OUTLINE=.TRUE. / \n",
    "\n",
    "# REACTIONS\n",
    "# C2H6O + 1.885 (O2 + 3.76 N2) -> 1.77 CO + 3 H2O + .23 C + 7.0876 N2\n",
    "# CO + 1/2 O2 -> CO2, \tCO consumption (oxidation), exothermic rxn\n",
    "# CO2 -> CO + 1/2 O2, \tCO production, endothermic rxn (reverse reaction)\n",
    "\n",
    "# Reaction rates from Westbrook & Dryer, 1981, Units: cm s mol kcal K\n",
    "# Ethanol Fuel:  k = 3.6e12*exp(-30/(RT))[C2H6O]^0.15[O2]^1.6\n",
    "# CO Oxidation:  k = 4e14*exp(-40/(RT))[CO]^1[H2O(g)]^0.5[O2]^0.25\n",
    "# CO Production: k = 5e8*exp(-40/(RT))[CO2]^1\n",
    "\n",
    "&SPEC ID = 'NITROGEN' /\n",
    "&SPEC ID = 'OXYGEN' /\n",
    "&SPEC ID = 'WATER VAPOR' /\n",
    "&SPEC ID = 'ETHANOL' /\n",
    "&SPEC ID = 'CARBON MONOXIDE' /\n",
    "&SPEC ID = 'CARBON DIOXIDE' /\n",
    "&SPEC ID = 'SOOT', AEROSOL=.TRUE. /\n",
    "&SPEC ID = 'AIR', SPEC_ID ='NITROGEN','OXYGEN', VOLUME_FRACTION = 3.76,1., \n",
    "            BACKGROUND = .TRUE. /\n",
    "\n",
    "&REAC ID = 'Ethanol Fuel', FUEL='ETHANOL', \n",
    "\tSPEC_ID_NU='ETHANOL','AIR','CARBON MONOXIDE','WATER VAPOR','SOOT','NITROGEN',\n",
    "\tNU=-1,-1.885,1.77,3,0.23,7.0876, CRITICAL_FLAME_TEMPERATURE = 425. / \n",
    "&REAC ID = 'CO Oxidation', FUEL='CARBON MONOXIDE', A=4e14, E=167360, \n",
    "\tSPEC_ID_NU='CARBON MONOXIDE','OXYGEN','CARBON DIOXIDE', NU=-1,-0.5,1,\n",
    "\tSPEC_ID_N_S='CARBON MONOXIDE','WATER VAPOR','OXYGEN', N_S=1,0.5,0.25 / E in J/mol\n",
    "&REAC ID = 'CO Production', FUEL='CARBON DIOXIDE', A=5e8, E=167360, \n",
    "\tSPEC_ID_NU='CARBON DIOXIDE','CARBON MONOXIDE','OXYGEN', NU=-1,1,0.5,\n",
    "\tSPEC_ID_N_S='CARBON DIOXIDE', N_S=1 /\n",
    "\n",
    "# MATERIAL PROPERTIES\n",
    "&MATL ID='steel', \n",
    "      CONDUCTIVITY=54.0, DENSITY=7833., EMISSIVITY=0.9, SPECIFIC_HEAT=0.465 /\n",
    "&SURF ID='fuel', MASS_FLUX=0.012, SPEC_ID='ETHANOL', RGB=255,69,0 / mdot\" in kg/m^2/s\n",
    "&SURF ID='wall', MATL_ID='steel', THICKNESS=0.001, BACKING='EXPOSED' /\n",
    "&SURF ID='Igniter', COLOR='RED', TMP_FRONT=1500., RAMP_T='T_igniter' / \n",
    "\n",
    "&RAMP ID='T_igniter', T=0.0, F=0.0 /\n",
    "&RAMP ID='T_igniter', T=1.0, F=1.0 /\n",
    "&RAMP ID='T_igniter', T=2.5, F=1.0 /\n",
    "&RAMP ID='T_igniter', T=3.0, F=0.0 /\n",
    "\n",
    "# IGNITER AND FUEL\n",
    "&DEVC XYZ=0.155,0.12,0.09, ID='Ignition timer', QUANTITY='TIME', SETPOINT=3.0, \n",
    "\t  INITIAL_STATE=.TRUE./ Remove OBST after 3 sec when starting with it ON \n",
    "&OBST XB=0.1500,0.1520,0.12,0.1205,0.0895,0.0905, SURF_ID='Igniter', \n",
    "      DEVC_ID='Ignition timer', BNDF_OBST=.FALSE. /\n",
    "&OBST XB=0.14,0.16,0.12,0.1205,0.055,0.0555, SURF_IDS='fuel','INERT','INERT', \n",
    "      BNDF_OBST=.FALSE. / As = 0.0004 m^2, SURF_IDS=top, sides, bottom\n",
    " \n",
    "# AIR INLET THROUGH BOTTOM\n",
    "&SURF ID='vent air flow', VEL=-0.15, MASS_FRACTION=1.0, SPEC_ID='AIR' / m/s\n",
    "\t  negative means into the domain\n",
    "&OBST XB=0.09,0.21,0.12,0.1205,0.03,0.0305, SURF_ID='wall' / bottom\n",
    "&VENT XB=0.09,0.21,0.12,0.1205,0.0305,0.0305, SURF_ID='vent air flow', \n",
    "      RGB=135,206,235, OUTLINE=.TRUE. /\n",
    "\n",
    "# OUTPUT\n",
    "&SLCF PBY = 0.12, QUANTITY = 'TEMPERATURE' /\n",
    "&SLCF PBY = 0.12, QUANTITY = 'VELOCITY', VECTOR=.TRUE. /\n",
    "&SLCF PBY = 0.12, QUANTITY = 'VOLUME FRACTION', SPEC_ID='ETHANOL' /\n",
    "&SLCF PBY = 0.12, QUANTITY = 'VOLUME FRACTION', SPEC_ID='CARBON MONOXIDE' /\n",
    "&SLCF PBY = 0.12, QUANTITY = 'AEROSOL VOLUME FRACTION', SPEC_ID='SOOT' / \n",
    "\n",
    "&DEVC ID='v_top', XB=0.09,0.21,0.12,0.1205,0.145,0.150, QUANTITY='VELOCITY', \n",
    "      STATISTICS='MEAN' /\t\n",
    "&DEVC ID='Xco_top', XB=0.09,0.21,0.12,0.1205,0.145,0.150, \n",
    "      QUANTITY='VOLUME FRACTION', SPEC_ID='CARBON MONOXIDE', STATISTICS='MEAN' /\n",
    "&DEVC ID='Xs_top', XB=0.09,0.21,0.12,0.1205,0.145,0.150, \n",
    "      QUANTITY='AEROSOL VOLUME FRACTION', SPEC_ID='SOOT', STATISTICS='MEAN' /\n",
    "\n",
    "&TAIL /\n",
    "```"
   ]
  },
  {
   "cell_type": "markdown",
   "metadata": {},
   "source": [
    "### Summary statistics and plot of output from CFD simulation\n",
    "\n",
    "The numerical values here are from simulated sensors defined in the input file of the CFD model."
   ]
  },
  {
   "cell_type": "code",
   "execution_count": 1,
   "metadata": {
    "collapsed": false
   },
   "outputs": [
    {
     "name": "stdout",
     "output_type": "stream",
     "text": [
      "Populating the interactive namespace from numpy and matplotlib\n"
     ]
    }
   ],
   "source": [
    "%pylab inline\n",
    "import numpy as np\n",
    "import pandas as pd\n",
    "import matplotlib.pyplot as plt"
   ]
  },
  {
   "cell_type": "code",
   "execution_count": 2,
   "metadata": {
    "collapsed": false
   },
   "outputs": [
    {
     "name": "stdout",
     "output_type": "stream",
     "text": [
      "63\n",
      "Average exiting velocity: 0.2 m/s\n",
      "Average exiting carbon monoxide mole fraction: 0.0033 mol/mol\n",
      "Average heat release rate: 1.79 W\n",
      "Average burn rate: 0.0072 g/min\n"
     ]
    },
    {
     "data": {
      "image/png": "[encoded data removed]",
      "text/plain": [
       "<matplotlib.figure.Figure at 0x7fe6042064e0>"
      ]
     },
     "metadata": {},
     "output_type": "display_data"
    }
   ],
   "source": [
    "# Import CSV output file from the FDS simulation\n",
    "fds = pd.read_csv('images/ig6_devc.csv', skiprows = 1) \n",
    "fdsdf = pd.DataFrame(data=fds)\n",
    "fdsdf.describe() # units in s, degC, m/s, mol/mol, kW, kg/s\n",
    "hrr = fdsdf.HRR.tail(30).mean()*1000 # convert kW to Watts\n",
    "burn_rate = fdsdf.BURN_RATE.tail(30).mean()*1000*60 # convert kg to grams, seconds to minutes\n",
    "\n",
    "print(len(fdsdf.Xco_top))\n",
    "print('Average exiting velocity: %2.1f m/s' % fdsdf.v_top.tail(30).mean())\n",
    "print('Average exiting carbon monoxide mole fraction: %2.4f mol/mol' % fdsdf.Xco_top.tail(30).mean())\n",
    "print('Average heat release rate: %2.2f W' % hrr)\n",
    "print('Average burn rate: %2.4f g/min' % burn_rate)\n",
    "\n",
    "# Plot the output\n",
    "f, ax = plt.subplots()\n",
    "f.set_figheight(6.2)\n",
    "f.set_figwidth(10.0)\n",
    "sz_axes   = 16\n",
    "sz_labels = 20\n",
    "sz_title  = 22\n",
    "plt.rc('xtick', labelsize = sz_axes); plt.rc('ytick', labelsize = sz_axes)\n",
    "\n",
    "x  = fdsdf.Time\n",
    "y0 = fdsdf.v_top\n",
    "y1 = fdsdf.Xco_top\n",
    "y2 = fdsdf.Xs_top\n",
    "\n",
    "ax.plot(x, y1, 'r-', label = 'X$_{CO}$', linewidth = 1)\n",
    "ax.axhline(y = y1.tail(30).mean(), linestyle = '--', color = 'r', label = 'X$_{CO} \\, \\mathrm{(avg)}$', linewidth = 1)\n",
    "# ax.plot(x, y2, 'ko-', label = 'X$_{s}$', linewidth = 2)\n",
    "# ax.plot(x, y0, 'b-', label = 'vel [m/s]', linewidth = 1)\n",
    "\n",
    "ax.legend(loc = 0, fontsize = sz_axes)\n",
    "ax.set_xlabel('$t \\: \\mathrm{(seconds)}$', fontsize = sz_labels)\n",
    "ax.set_ylabel('$X \\: (\\mathrm{mol/mol})$', fontsize = sz_labels)\n",
    "\n",
    "ax.set_title('$\\mathrm{Mole \\, fraction \\, of \\, carbon \\, monoxide \\, exiting \\, out \\, of \\, the \\, top}$', fontsize = sz_title)\n",
    "\n",
    "show()"
   ]
  },
  {
   "cell_type": "markdown",
   "metadata": {},
   "source": [
    "### Visualization of the simulated flow field along a vertical plane\n",
    "\n",
    "Air flow enters from the bottom and exits at the top. The fuel is injected at the surface represented by the white line in the bottom quarter of the domain.\n",
    "\n",
    "The first image is the velocity and the second image is the mole fraction of carbon monoxide."
   ]
  },
  {
   "cell_type": "markdown",
   "metadata": {},
   "source": [
    "<img src='images/ig6_velocity.png'>\n",
    "<img src='images/ig6_xCO.png'>"
   ]
  },
  {
   "cell_type": "markdown",
   "metadata": {},
   "source": [
    "### Modification\n",
    "\n",
    "The mixing conditions within the combustion chamber need to be improved in order to reduce the emissions of carbon monoxide. "
   ]
  },
  {
   "cell_type": "markdown",
   "metadata": {},
   "source": [
    "### Code sample: Added a pipe and injected air into the combustion chamber\n",
    "\n",
    "The CFD code and input file capture turbulence and finite rate chemical kinetics, including the reactions for both the production and oxidation of carbon monoxide. So even though the geometry is simple, the simulation can predict the reduction of CO due to increased mixing.\n",
    "\n",
    "Included additional code:\n",
    "\n",
    "```\n",
    "ig6_pipe2a.fds\n",
    "...\n",
    "&SPEC ID = 'PIPE AIR', SPEC_ID ='NITROGEN','OXYGEN', VOLUME_FRACTION = 3.76,1. /\n",
    "\n",
    "&MATL ID='steel', \n",
    "      CONDUCTIVITY=54.0, DENSITY=7833., EMISSIVITY=0.9, SPECIFIC_HEAT=0.465 /\n",
    "&SURF ID='pipe air flow', MASS_FLUX=7.5, SPEC_ID='PIPE AIR', RGB=0,0,128 / \n",
    "      mdot\" in kg/m^2/s, for Re = 4000\n",
    "&SURF ID='pipe', MATL_ID='steel', THICKNESS=0.0010, RGB=128,128,128, \n",
    "      BACKING='EXPOSED' /\n",
    "\n",
    "&OBST XB=0.20,0.22,0.12,0.1205,0.09,0.10, SURF_ID='pipe' / D = 1.0cm\n",
    "&VENT XB=0.20,0.20,0.12,0.1205,0.09,0.10, SURF_ID='pipe air flow', COLOR='BLUE' /\n",
    "...\n",
    "&TAIL /\n",
    "```"
   ]
  },
  {
   "cell_type": "markdown",
   "metadata": {},
   "source": [
    "### Visualization of the simulated flow field along a vertical plane\n",
    "\n",
    "This simulation is the same as before except air was injected through a pipe into the combustion chamber.\n",
    "\n",
    "The first animated image series below shows the velocity in the combustion chamber, and the resulting added turbulence. The second shows the mole fraction of CO, and how, due to increased mixing of air with the combustion emissions, there is a reduction of the concentration of CO leaving the combustion chamber.\n",
    "\n",
    "The third animated image shows the mole fraction of CO superimposed on the velocity profile. Much less emissions escape beyond the injected air flow and exit out of the top of the combustion chamber."
   ]
  },
  {
   "cell_type": "markdown",
   "metadata": {},
   "source": [
    "<img src='images/ig6_pipe2a_velocity_2fps.gif' width=\"90%\" height=\"90%\">\n",
    "<img src='images/ig6_pipe2a_xCO_2fps.gif' width=\"90%\" height=\"90%\">\n",
    "<img src='images/ig6_pipe2a_xCO_with_velocity_2fps.gif' width=\"90%\" height=\"90%\">\n",
    "\n",
    "The animated gifs are displaying the series of images at a rate of 2 frames per second."
   ]
  },
  {
   "cell_type": "markdown",
   "metadata": {},
   "source": [
    "### Summary statistics and plot of output from CFD simulation"
   ]
  },
  {
   "cell_type": "code",
   "execution_count": 3,
   "metadata": {
    "collapsed": false
   },
   "outputs": [
    {
     "name": "stdout",
     "output_type": "stream",
     "text": [
      "36\n",
      "Average exiting velocity: 2.1 m/s\n",
      "Average exiting carbon monoxide mole fraction: 0.0009 mol/mol\n",
      "Average heat release rate: 1.79 W\n",
      "Average burn rate: 0.0072 g/min\n"
     ]
    },
    {
     "data": {
      "image/png": "[encoded data removed]",
      "text/plain": [
       "<matplotlib.figure.Figure at 0x7fe5d55b55c0>"
      ]
     },
     "metadata": {},
     "output_type": "display_data"
    }
   ],
   "source": [
    "# Import CSV output file from the FDS simulation\n",
    "fds = pd.read_csv('images/ig6_pipe2a_devc.csv', skiprows = 1) \n",
    "fdsdf = pd.DataFrame(data=fds)\n",
    "fdsdf.describe() # units in s, degC, m/s, mol/mol\n",
    "hrr = fdsdf.HRR.tail(30).mean()*1000 # convert kW to Watts\n",
    "burn_rate = fdsdf.BURN_RATE.tail(30).mean()*1000*60 # convert kg to grams, seconds to minutes\n",
    "\n",
    "print(len(fdsdf.Xco_top))\n",
    "print('Average exiting velocity: %2.1f m/s' % fdsdf.v_top.tail(30).mean())\n",
    "print('Average exiting carbon monoxide mole fraction: %2.4f mol/mol' % fdsdf.Xco_top.tail(30).mean())\n",
    "print('Average heat release rate: %2.2f W' % hrr)\n",
    "print('Average burn rate: %2.4f g/min' % burn_rate)\n",
    "\n",
    "# Plot the output\n",
    "f, ax = plt.subplots()\n",
    "f.set_figheight(6.2)\n",
    "f.set_figwidth(10.0)\n",
    "sz_axes   = 16\n",
    "sz_labels = 20\n",
    "sz_title  = 22\n",
    "plt.rc('xtick', labelsize = sz_axes); plt.rc('ytick', labelsize = sz_axes)\n",
    "\n",
    "x  = fdsdf.Time\n",
    "y0 = fdsdf.v_top\n",
    "y1 = fdsdf.Xco_top\n",
    "y2 = fdsdf.Xs_top\n",
    "\n",
    "ax.plot(x, y1, 'r-', label = 'X$_{CO}$', linewidth = 1)\n",
    "ax.axhline(y = y1.tail(30).mean(), linestyle = '--', color = 'r', label = 'X$_{CO} \\, \\mathrm{(avg)}$', linewidth = 1)\n",
    "# ax.plot(x, y2, 'ko-', label = 'X$_{s}$', linewidth = 2)\n",
    "# ax.plot(x, y0, 'b-', label = 'vel [m/s]', linewidth = 1)\n",
    "\n",
    "ax.legend(loc = 0, fontsize = sz_axes)\n",
    "ax.set_xlabel('$t \\: \\mathrm{(seconds)}$', fontsize = sz_labels)\n",
    "ax.set_ylabel('$X \\: (\\mathrm{mol/mol})$', fontsize = sz_labels)\n",
    "\n",
    "ax.set_title('$\\mathrm{Mole \\, fraction \\, of \\, carbon \\, monoxide \\, exiting \\, out \\, of \\, the \\, top}$', fontsize = sz_title)\n",
    "\n",
    "show()"
   ]
  },
  {
   "cell_type": "markdown",
   "metadata": {},
   "source": [
    "### Comparing the two cases\n",
    "\n",
    "The added turbulent kinetic energy and air coming from the pipe reduces the exiting CO emissions (mole fraction) by an order of magnitude! Both cases maintain the same heat release rate (1.8 W) and fuel burn rate (0.007 g/min), so the reduction in emissions is due to turbulent mixing.\n",
    "\n",
    "For the design process of a combustion chamber given specific design constraints, combustion chamber geometry, etc., and design goals, simulations can be performed to determine optimal parameters such as the the diameter of the pipe, the location (height) of the pipe, and the velocity of air exiting the pipe."
   ]
  },
  {
   "cell_type": "markdown",
   "metadata": {},
   "source": [
    "## Work sample 2\n",
    "\n",
    "This project was largely a transport problem. The flow of air and combustion emissions throughout a room (or smaller chamber) was simulated to predict spatial concentrations of emissions for informing public health methodology related to exposure assessment and indoor air quality."
   ]
  },
  {
   "cell_type": "markdown",
   "metadata": {},
   "source": [
    "### Flow visualizations\n",
    "\n",
    "This visualization shows velocity vectors for the flow field through an opening in a chamber. The plane shown is a vertical slice through the center of the 3-D chamber at the location of the combustion source. Notice the transient turbulent eddies forming as the buoyant-driven flow of CO, CO$_2$, and water vapor expands toward the chamber ceiling (the chamber outline is not shown in the animated image).\n",
    "\n",
    "<img src='images/rv3_Ea_velocity-vector-slice-animated.gif' width=\"90%\" height=\"90%\">"
   ]
  },
  {
   "cell_type": "markdown",
   "metadata": {},
   "source": [
    "Most of the results for this project were focused on plotting quantitative output from the CFD simulations (simulated sensors predicting quantities at point sources). Quantities such as concentrations of emissions of carbon monoxide were plotted and compared at different spatial locations within a room (or chamber), which varied and were heavily dependent on ventilation conditions."
   ]
  },
  {
   "cell_type": "code",
   "execution_count": null,
   "metadata": {
    "collapsed": true
   },
   "outputs": [],
   "source": []
  }
 ],
 "metadata": {
  "kernelspec": {
   "display_name": "Python 3",
   "language": "python",
   "name": "python3"
  },
  "language_info": {
   "codemirror_mode": {
    "name": "ipython",
    "version": 3
   },
   "file_extension": ".py",
   "mimetype": "text/x-python",
   "name": "python",
   "nbconvert_exporter": "python",
   "pygments_lexer": "ipython3",
   "version": "3.4.3"
  }
 },
 "nbformat": 4,
 "nbformat_minor": 0
}
